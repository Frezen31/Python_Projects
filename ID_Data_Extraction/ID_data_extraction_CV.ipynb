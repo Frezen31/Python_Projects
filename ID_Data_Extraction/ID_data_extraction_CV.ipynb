{
 "cells": [
  {
   "cell_type": "code",
   "execution_count": null,
   "metadata": {},
   "outputs": [],
   "source": [
    "from tkinter import *\n",
    "from tkinter.filedialog import askopenfile\n",
    "from PIL import Image, ImageDraw\n",
    "import cv2 as cv\n",
    "import pytesseract\n",
    "import numpy as np"
   ]
  },
  {
   "cell_type": "code",
   "execution_count": null,
   "metadata": {},
   "outputs": [],
   "source": [
    "# image and data lists\n",
    "image_objs, word_collections = [], []"
   ]
  },
  {
   "cell_type": "code",
   "execution_count": null,
   "metadata": {},
   "outputs": [],
   "source": [
    "# app definitions\n",
    "window = Tk()\n",
    "window.title('CCP')\n",
    "window.geometry('400x400')"
   ]
  },
  {
   "cell_type": "code",
   "execution_count": null,
   "metadata": {},
   "outputs": [],
   "source": [
    "# browse and upload images\n",
    "def open_file():\n",
    "    file_path = askopenfile(mode = 'r', filetypes = [('Image Files', '*png'), ('Image Files', '*jpeg'), ('Image Files', '*jpg')])\n",
    "    # load image and cv objects\n",
    "    if file_path is not None:\n",
    "        image = Image.open(file_path.name)\n",
    "        image_cv = cv.cvtColor(np.array(image), cv.COLOR_RGB2BGR)\n",
    "        image_objs.extend([image, image_cv])\n",
    "    else:\n",
    "        messagebox.showerror(\"showerror\", \"Error\")"
   ]
  },
  {
   "cell_type": "code",
   "execution_count": null,
   "metadata": {},
   "outputs": [],
   "source": [
    "# detect text and extract from image\n",
    "def extract_info(img):\n",
    "    text = pytesseract.image_to_string(img)\n",
    "    data_collection = text.split(\"\\n\")\n",
    "    extracted_words = [i for i in data_collection if i != \"\"]\n",
    "    return extracted_words"
   ]
  },
  {
   "cell_type": "code",
   "execution_count": null,
   "metadata": {},
   "outputs": [],
   "source": [
    "# pre-processing image to detect text\n",
    "def process_image(p):\n",
    "    img_gray = cv.cvtColor(image_objs[-1], cv.COLOR_BGR2GRAY)\n",
    "    img_bin = cv.threshold(img_gray, 38, 255, cv.THRESH_BINARY)[1]\n",
    "    img_mod = Image.fromarray(img_bin)\n",
    "    #display(img_mod)\n",
    "    word_collections.extend(extract_info(img_mod))\n"
   ]
  },
  {
   "cell_type": "code",
   "execution_count": null,
   "metadata": {},
   "outputs": [],
   "source": [
    "# button definitions\n",
    "msbtn = Button(window, text ='Choose File', command = open_file)\n",
    "msbtn.pack()\n",
    "\n",
    "eibtn = Button(window, text ='Extract Info', command = lambda: process_image(\"E\"))\n",
    "eibtn.pack()\n",
    "\n",
    "window.resizable(False, False)\n",
    "window.mainloop()"
   ]
  },
  {
   "cell_type": "code",
   "execution_count": null,
   "metadata": {},
   "outputs": [],
   "source": [
    "# filter out and print relevant data extracted\n",
    "filt = word_collections.index(\"Student\")\n",
    "word_collections = word_collections[filt - 2: ]\n",
    "print(\"Name:\",\" \".join(word_collections[0:2]))\n",
    "print(word_collections[2])\n",
    "print(word_collections[3])\n",
    "print(word_collections[4])"
   ]
  }
 ],
 "metadata": {
  "kernelspec": {
   "display_name": "Python 3.10.1 64-bit",
   "language": "python",
   "name": "python3"
  },
  "language_info": {
   "codemirror_mode": {
    "name": "ipython",
    "version": 3
   },
   "file_extension": ".py",
   "mimetype": "text/x-python",
   "name": "python",
   "nbconvert_exporter": "python",
   "pygments_lexer": "ipython3",
   "version": "3.10.1"
  },
  "orig_nbformat": 4,
  "vscode": {
   "interpreter": {
    "hash": "aee8b7b246df8f9039afb4144a1f6fd8d2ca17a180786b69acc140d282b71a49"
   }
  }
 },
 "nbformat": 4,
 "nbformat_minor": 2
}
